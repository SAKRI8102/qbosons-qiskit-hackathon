{
 "cells": [
  {
   "cell_type": "code",
   "execution_count": 2,
   "id": "f1363298-4517-4242-90fc-3b098219f56c",
   "metadata": {},
   "outputs": [
    {
     "name": "stderr",
     "output_type": "stream",
     "text": [
      "<frozen importlib._bootstrap>:219: RuntimeWarning: scipy._lib.messagestream.MessageStream size changed, may indicate binary incompatibility. Expected 56 from C header, got 64 from PyObject\n"
     ]
    }
   ],
   "source": [
    "import numpy as np\n",
    "\n",
    "# Importing standard Qiskit libraries\n",
    "from qiskit import QuantumCircuit, transpile, Aer, IBMQ\n",
    "from qiskit.tools.jupyter import *\n",
    "from qiskit.visualization import *\n",
    "from ibm_quantum_widgets import *\n",
    "from qiskit.providers.aer import QasmSimulator\n",
    "\n",
    "# Loading your IBM Quantum account(s)\n",
    "provider = IBMQ.load_account()"
   ]
  },
  {
   "cell_type": "code",
   "execution_count": 3,
   "id": "47d20f42-3939-459d-9c60-cebc7b2f6e1e",
   "metadata": {},
   "outputs": [
    {
     "name": "stdout",
     "output_type": "stream",
     "text": [
      "Collecting mlxtend\n",
      "  Using cached mlxtend-0.21.0-py2.py3-none-any.whl (1.3 MB)\n",
      "Requirement already satisfied: pandas>=0.24.2 in /opt/conda/lib/python3.8/site-packages (from mlxtend) (1.3.5)\n",
      "Requirement already satisfied: scikit-learn>=1.0.2 in /opt/conda/lib/python3.8/site-packages (from mlxtend) (1.1.2)\n",
      "Requirement already satisfied: matplotlib>=3.0.0 in /opt/conda/lib/python3.8/site-packages (from mlxtend) (3.5.1)\n",
      "Requirement already satisfied: scipy>=1.2.1 in /opt/conda/lib/python3.8/site-packages (from mlxtend) (1.8.0)\n",
      "Requirement already satisfied: joblib>=0.13.2 in /opt/conda/lib/python3.8/site-packages (from mlxtend) (1.2.0)\n",
      "Requirement already satisfied: numpy>=1.16.2 in /opt/conda/lib/python3.8/site-packages (from mlxtend) (1.22.4)\n",
      "Requirement already satisfied: setuptools in /opt/conda/lib/python3.8/site-packages (from mlxtend) (61.2.0)\n",
      "Requirement already satisfied: pillow>=6.2.0 in /opt/conda/lib/python3.8/site-packages (from matplotlib>=3.0.0->mlxtend) (9.0.1)\n",
      "Requirement already satisfied: python-dateutil>=2.7 in /opt/conda/lib/python3.8/site-packages (from matplotlib>=3.0.0->mlxtend) (2.8.2)\n",
      "Requirement already satisfied: pyparsing>=2.2.1 in /opt/conda/lib/python3.8/site-packages (from matplotlib>=3.0.0->mlxtend) (3.0.7)\n",
      "Requirement already satisfied: packaging>=20.0 in /opt/conda/lib/python3.8/site-packages (from matplotlib>=3.0.0->mlxtend) (21.3)\n",
      "Requirement already satisfied: kiwisolver>=1.0.1 in /opt/conda/lib/python3.8/site-packages (from matplotlib>=3.0.0->mlxtend) (1.4.2)\n",
      "Requirement already satisfied: cycler>=0.10 in /opt/conda/lib/python3.8/site-packages (from matplotlib>=3.0.0->mlxtend) (0.11.0)\n",
      "Requirement already satisfied: fonttools>=4.22.0 in /opt/conda/lib/python3.8/site-packages (from matplotlib>=3.0.0->mlxtend) (4.31.2)\n",
      "Requirement already satisfied: pytz>=2017.3 in /opt/conda/lib/python3.8/site-packages (from pandas>=0.24.2->mlxtend) (2022.2.1)\n",
      "Requirement already satisfied: six>=1.5 in /opt/conda/lib/python3.8/site-packages (from python-dateutil>=2.7->matplotlib>=3.0.0->mlxtend) (1.16.0)\n",
      "Requirement already satisfied: threadpoolctl>=2.0.0 in /opt/conda/lib/python3.8/site-packages (from scikit-learn>=1.0.2->mlxtend) (3.1.0)\n",
      "Installing collected packages: mlxtend\n",
      "Successfully installed mlxtend-0.21.0\n"
     ]
    }
   ],
   "source": [
    "!pip install mlxtend"
   ]
  },
  {
   "cell_type": "code",
   "execution_count": 4,
   "id": "b28e0672-17f3-4d45-affa-6950a8c01e6b",
   "metadata": {},
   "outputs": [],
   "source": [
    "import numpy as np\n",
    "import pandas as pd\n",
    "import matplotlib.pyplot as plt\n",
    "from mlxtend.plotting import plot_decision_regions\n",
    "\n",
    "\n",
    "from sklearn import datasets\n",
    "from sklearn.model_selection import train_test_split\n",
    "from sklearn import svm\n",
    "from sklearn.svm import SVC\n",
    "from sklearn.decomposition import PCA\n",
    "from sklearn.preprocessing import StandardScaler, MinMaxScaler\n",
    "\n",
    "\n",
    "from qiskit import Aer, execute\n",
    "from qiskit.circuit import QuantumCircuit, Parameter, ParameterVector\n",
    "from qiskit.circuit.library import PauliFeatureMap, ZFeatureMap, ZZFeatureMap\n",
    "from qiskit.circuit.library import TwoLocal, NLocal, RealAmplitudes, EfficientSU2\n",
    "from qiskit.circuit.library import HGate, RXGate, RYGate, RZGate, CXGate, CRXGate, CRZGate\n",
    "from qiskit_machine_learning.kernels import QuantumKernel\n",
    "from qiskit_machine_learning.datasets import iris\n",
    "from qiskit_machine_learning.algorithms import QSVC\n",
    "\n"
   ]
  },
  {
   "cell_type": "code",
   "execution_count": 5,
   "id": "817386cc-4a50-4b42-a8f6-c799dc0163dc",
   "metadata": {},
   "outputs": [],
   "source": [
    "\n",
    "\n",
    "\n",
    "iris = datasets.load_iris()\n",
    "\n",
    "\n",
    "\n",
    "\n",
    "sepal_length = iris['data'][:, 0]\n",
    "petal_length = iris['data'][:, 2]\n",
    "X = np.column_stack((sepal_length, petal_length))\n",
    "y = iris.target\n",
    "\n",
    "x_train, x_test, y_train, y_test = train_test_split(X, iris.target, test_size = 0.2, random_state=22)\n",
    "\n",
    "\n",
    "\n",
    "\n",
    "#training_features, training_labels, test_features, test_labels = iris(\n",
    "#    training_size=100, test_size=50, n=2, plot_data=True\n",
    "#)\n"
   ]
  },
  {
   "cell_type": "code",
   "execution_count": 8,
   "id": "31164aae-afc6-4a53-9aba-00bdd231c293",
   "metadata": {},
   "outputs": [
    {
     "data": {
      "image/png": "[encoded data removed]",
      "text/plain": [
       "<Figure size 864x432 with 1 Axes>"
      ]
     },
     "metadata": {
      "needs_background": "light"
     },
     "output_type": "display_data"
    }
   ],
   "source": [
    "def plot_sampled_data():\n",
    "    from matplotlib.patches import Patch\n",
    "    from matplotlib.lines import Line2D\n",
    "    import matplotlib.pyplot as plt\n",
    "\n",
    "    plt.figure(figsize = (12,6))\n",
    "\n",
    "    for feature, label in zip(X, y):\n",
    "        marker = 'o' \n",
    "        if label.any() == 0 : \n",
    "            color = 'tab:green'\n",
    "        elif label.any() == 1 :\n",
    "            color = 'tab:blue' \n",
    "        elif label.any() == 2 :\n",
    "            color = 'tab:red'\n",
    "                \n",
    "        plt.scatter(feature[0], feature[1], marker = marker, s = 100, color = color)\n",
    "     \n",
    "    for feature, label in zip(x_test, y_test):\n",
    "        marker = 's' \n",
    "        plt.scatter(feature[0], feature[1], marker = marker, s = 100, facecolor = 'none', edgecolor = 'k')\n",
    "    \n",
    "    legend_elements = [\n",
    "        Line2D([0], [0], marker ='o', c = 'w', mfc ='tab:green', label = 'A', ms = 15),\n",
    "        Line2D([0], [0], marker ='o', c = 'w', mfc ='tab:blue', label =' B', ms = 15),\n",
    "        Line2D([0], [0], marker ='o', c = 'w', mfc ='tab:red', label =' C', ms = 15),\n",
    "        Line2D([0], [0], marker ='s', c = 'w', mfc ='none', mec='k', label='test features', ms=10)\n",
    "    ]\n",
    "\n",
    "    plt.legend(handles=legend_elements, bbox_to_anchor=(1, 0.6))\n",
    "    \n",
    "    plt.title('Training & test data')\n",
    "    plt.xlabel('$x$')\n",
    "    plt.ylabel('$y$')\n",
    "    \n",
    "plot_sampled_data()"
   ]
  },
  {
   "cell_type": "code",
   "execution_count": 9,
   "id": "4d6e1955-73d6-420a-91d6-71c19f1a42a8",
   "metadata": {},
   "outputs": [
    {
     "data": {
      "image/png": "[encoded data removed]",
      "text/plain": [
       "<Figure size 507.852x144.48 with 1 Axes>"
      ]
     },
     "execution_count": 9,
     "metadata": {},
     "output_type": "execute_result"
    }
   ],
   "source": [
    "from qiskit.opflow import PauliExpectation, CircuitSampler\n",
    "from qiskit.utils import QuantumInstance\n",
    "\n",
    "backend = Aer.get_backend('statevector_simulator')\n",
    "q_instance = QuantumInstance(backend, shots = 8192, seed_simulator = 2718, seed_transpiler = 2718)\n",
    "\n",
    "\n",
    "dim = 2\n",
    "feature_map = ZZFeatureMap(dim, reps=1, entanglement = 'linear').decompose()  # let's keep it simple!\n",
    "feature_map.draw('mpl', style='iqx')"
   ]
  },
  {
   "cell_type": "code",
   "execution_count": 10,
   "id": "3c133aa7-cee6-4d0b-bef7-79e43aa3df99",
   "metadata": {},
   "outputs": [
    {
     "data": {
      "image/png": "[encoded data removed]",
      "text/plain": [
       "<Figure size 267.052x144.48 with 1 Axes>"
      ]
     },
     "execution_count": 10,
     "metadata": {},
     "output_type": "execute_result"
    }
   ],
   "source": [
    "ansatz = RealAmplitudes(num_qubits=dim, entanglement='linear', reps=1).decompose()  # also simple here!\n",
    "ansatz.draw('mpl', style='iqx')"
   ]
  },
  {
   "cell_type": "code",
   "execution_count": 11,
   "id": "bfbc26a7-f5bd-4d3c-8660-20615297b0e7",
   "metadata": {},
   "outputs": [
    {
     "data": {
      "image/png": "[encoded data removed]",
      "text/plain": [
       "<Figure size 688.452x144.48 with 1 Axes>"
      ]
     },
     "execution_count": 11,
     "metadata": {},
     "output_type": "execute_result"
    }
   ],
   "source": [
    "circuit = feature_map.compose(ansatz)\n",
    "circuit.draw('mpl', style='iqx')"
   ]
  },
  {
   "cell_type": "code",
   "execution_count": 12,
   "id": "fdc30ba6-acff-4d46-85bb-f4c1b132b9bf",
   "metadata": {},
   "outputs": [],
   "source": [
    "from qiskit.opflow import Z, I\n",
    "hamiltonian = Z ^ Z  # global Z operators"
   ]
  },
  {
   "cell_type": "code",
   "execution_count": 13,
   "id": "47e94087-33a6-4ee6-b3c2-871a40d769e1",
   "metadata": {},
   "outputs": [],
   "source": [
    "from qiskit.opflow import StateFn"
   ]
  },
  {
   "cell_type": "code",
   "execution_count": 14,
   "id": "bec0e564-b016-4ee6-89ce-6b18d8f586e9",
   "metadata": {},
   "outputs": [],
   "source": [
    "from qiskit.algorithms.optimizers import GradientDescent\n",
    "\n",
    "gd_loss = []\n",
    "def gd_callback(nfevs, x, fx, stepsize):\n",
    "    gd_loss.append(fx)\n",
    "    \n",
    "gd = GradientDescent(maxiter=300, learning_rate=0.01, callback = gd_callback)"
   ]
  },
  {
   "cell_type": "code",
   "execution_count": 17,
   "id": "fabce22c-4042-4efb-a728-a6672f99a3a9",
   "metadata": {},
   "outputs": [
    {
     "name": "stdout",
     "output_type": "stream",
     "text": [
      "0.19063607814785402\n"
     ]
    }
   ],
   "source": [
    "\n",
    "\n",
    "expectation = StateFn(hamiltonian, is_measurement=True) @ StateFn(ansatz)\n",
    "in_pauli_basis = PauliExpectation().convert(expectation)\n",
    "sampler = CircuitSampler(q_instance)\n",
    "\n",
    "def evaluate_expectation(x):\n",
    "    value_dict = dict(zip(ansatz.parameters, x))\n",
    "    result = sampler.convert(in_pauli_basis, params=value_dict).eval()  \n",
    "    return np.real(result)\n",
    "\n",
    "point = np.random.random(ansatz.num_parameters)\n",
    "index = 2\n",
    "eps = 0.2\n",
    "e_i = np.identity(point.size)[:, index]  # identity vector with a 1 at index ``index``, otherwise 0\n",
    "\n",
    "plus = point + eps * e_i\n",
    "minus = point - eps * e_i\n",
    "\n",
    "\n",
    "\n",
    "\n",
    "finite_difference = (evaluate_expectation(plus) - evaluate_expectation(minus)) / (2 * eps)\n",
    "\n",
    "print(finite_difference)"
   ]
  },
  {
   "cell_type": "code",
   "execution_count": 18,
   "id": "6a10ec28-57f2-4e28-ac0a-06c435f2dc17",
   "metadata": {},
   "outputs": [
    {
     "name": "stdout",
     "output_type": "stream",
     "text": [
      "[0.35684775 0.24081818 0.07273266 0.66805221]\n"
     ]
    }
   ],
   "source": [
    "initial_point = np.random.random(ansatz.num_parameters)\n",
    "\n",
    "print(initial_point)"
   ]
  },
  {
   "cell_type": "code",
   "execution_count": 31,
   "id": "c3006b2e-0eb7-4791-b9c2-a61b9ea8c8f3",
   "metadata": {},
   "outputs": [],
   "source": [
    "\n",
    "\n",
    "gd_in_pauli_basis = PauliExpectation().convert(gd)\n",
    "\n",
    "def evaluate_gd(x):\n",
    "    value_dict = dict(zip(ansatz.parameters, x))\n",
    "    result = sampler.convert(gd_in_pauli_basis, params = value_dict).eval()  # add parameters in here!\n",
    "    return np.real(result)    "
   ]
  },
  {
   "cell_type": "code",
   "execution_count": 47,
   "id": "be040243-103a-41c4-9c4d-18b032922348",
   "metadata": {},
   "outputs": [
    {
     "name": "stdout",
     "output_type": "stream",
     "text": [
      "Traceback \u001b[1;36m(most recent call last)\u001b[0m:\n",
      "  Input \u001b[0;32mIn [47]\u001b[0m in \u001b[0;35m<cell line: 1>\u001b[0m\n",
      "    x_opt, fx_opt, nfevs = gd.minimize(fun = evaluate_expectation,  # function to evaluate the gradient\n",
      "  File \u001b[0;32m/opt/conda/lib/python3.8/site-packages/qiskit/algorithms/optimizers/gradient_descent.py:180\u001b[0m in \u001b[0;35mminimize\u001b[0m\n",
      "    update = jac(x)\n",
      "  Input \u001b[0;32mIn [31]\u001b[0m in \u001b[0;35mevaluate_gd\u001b[0m\n",
      "    result = sampler.convert(gd_in_pauli_basis, params = value_dict).eval()  # add parameters in here!\n",
      "\u001b[1;36m  File \u001b[1;32m/opt/conda/lib/python3.8/site-packages/qiskit/opflow/converters/circuit_sampler.py:166\u001b[1;36m in \u001b[1;35mconvert\u001b[1;36m\u001b[0m\n",
      "\u001b[1;33m    op_id = operator.instance_id\u001b[0m\n",
      "\u001b[1;31mAttributeError\u001b[0m\u001b[1;31m:\u001b[0m 'GradientDescent' object has no attribute 'instance_id'\n",
      "\n",
      "Use %tb to get the full traceback.\n"
     ]
    },
    {
     "data": {
      "text/html": [
       "\n",
       "<style>\n",
       ".button {\n",
       "  border: none;\n",
       "  color: white;\n",
       "  padding: 4px 8px;\n",
       "  text-align: center;\n",
       "  text-decoration: none;\n",
       "  display: inline-block;\n",
       "  font-size: 12px;\n",
       "  margin: 4px 2px;\n",
       "  transition-duration: 0.2s;\n",
       "  cursor: pointer;\n",
       "}\n",
       ".iqx-button {\n",
       "  background-color: #0f62fe; \n",
       "  color: white; \n",
       "}\n",
       ".iqx-button:hover {\n",
       "  background-color: #0043ce;\n",
       "  color: white;\n",
       "}\n",
       "</style>\n",
       "<a href=\"https://stackoverflow.com/search?q=AttributeError: 'GradientDescent' object has no attribute 'instance_id'\" target='_blank'><button class='button iqx-button'>Search for solution online</button></a>\n"
      ],
      "text/plain": [
       "<IPython.core.display.HTML object>"
      ]
     },
     "metadata": {},
     "output_type": "display_data"
    }
   ],
   "source": [
    "x_opt, fx_opt, nfevs = gd.minimize(fun = evaluate_expectation,  # function to evaluate the gradient \n",
    "                                   x0 = initial_point,          # initial point\n",
    "                                   jac = evaluate_gd)  "
   ]
  },
  {
   "cell_type": "code",
   "execution_count": 36,
   "id": "5cf480c0-b59d-435c-acc3-6ca37004dd5d",
   "metadata": {},
   "outputs": [
    {
     "data": {
      "text/html": [
       "<style>#sk-container-id-1 {color: black;background-color: white;}#sk-container-id-1 pre{padding: 0;}#sk-container-id-1 div.sk-toggleable {background-color: white;}#sk-container-id-1 label.sk-toggleable__label {cursor: pointer;display: block;width: 100%;margin-bottom: 0;padding: 0.3em;box-sizing: border-box;text-align: center;}#sk-container-id-1 label.sk-toggleable__label-arrow:before {content: \"▸\";float: left;margin-right: 0.25em;color: #696969;}#sk-container-id-1 label.sk-toggleable__label-arrow:hover:before {color: black;}#sk-container-id-1 div.sk-estimator:hover label.sk-toggleable__label-arrow:before {color: black;}#sk-container-id-1 div.sk-toggleable__content {max-height: 0;max-width: 0;overflow: hidden;text-align: left;background-color: #f0f8ff;}#sk-container-id-1 div.sk-toggleable__content pre {margin: 0.2em;color: black;border-radius: 0.25em;background-color: #f0f8ff;}#sk-container-id-1 input.sk-toggleable__control:checked~div.sk-toggleable__content {max-height: 200px;max-width: 100%;overflow: auto;}#sk-container-id-1 input.sk-toggleable__control:checked~label.sk-toggleable__label-arrow:before {content: \"▾\";}#sk-container-id-1 div.sk-estimator input.sk-toggleable__control:checked~label.sk-toggleable__label {background-color: #d4ebff;}#sk-container-id-1 div.sk-label input.sk-toggleable__control:checked~label.sk-toggleable__label {background-color: #d4ebff;}#sk-container-id-1 input.sk-hidden--visually {border: 0;clip: rect(1px 1px 1px 1px);clip: rect(1px, 1px, 1px, 1px);height: 1px;margin: -1px;overflow: hidden;padding: 0;position: absolute;width: 1px;}#sk-container-id-1 div.sk-estimator {font-family: monospace;background-color: #f0f8ff;border: 1px dotted black;border-radius: 0.25em;box-sizing: border-box;margin-bottom: 0.5em;}#sk-container-id-1 div.sk-estimator:hover {background-color: #d4ebff;}#sk-container-id-1 div.sk-parallel-item::after {content: \"\";width: 100%;border-bottom: 1px solid gray;flex-grow: 1;}#sk-container-id-1 div.sk-label:hover label.sk-toggleable__label {background-color: #d4ebff;}#sk-container-id-1 div.sk-serial::before {content: \"\";position: absolute;border-left: 1px solid gray;box-sizing: border-box;top: 0;bottom: 0;left: 50%;z-index: 0;}#sk-container-id-1 div.sk-serial {display: flex;flex-direction: column;align-items: center;background-color: white;padding-right: 0.2em;padding-left: 0.2em;position: relative;}#sk-container-id-1 div.sk-item {position: relative;z-index: 1;}#sk-container-id-1 div.sk-parallel {display: flex;align-items: stretch;justify-content: center;background-color: white;position: relative;}#sk-container-id-1 div.sk-item::before, #sk-container-id-1 div.sk-parallel-item::before {content: \"\";position: absolute;border-left: 1px solid gray;box-sizing: border-box;top: 0;bottom: 0;left: 50%;z-index: -1;}#sk-container-id-1 div.sk-parallel-item {display: flex;flex-direction: column;z-index: 1;position: relative;background-color: white;}#sk-container-id-1 div.sk-parallel-item:first-child::after {align-self: flex-end;width: 50%;}#sk-container-id-1 div.sk-parallel-item:last-child::after {align-self: flex-start;width: 50%;}#sk-container-id-1 div.sk-parallel-item:only-child::after {width: 0;}#sk-container-id-1 div.sk-dashed-wrapped {border: 1px dashed gray;margin: 0 0.4em 0.5em 0.4em;box-sizing: border-box;padding-bottom: 0.4em;background-color: white;}#sk-container-id-1 div.sk-label label {font-family: monospace;font-weight: bold;display: inline-block;line-height: 1.2em;}#sk-container-id-1 div.sk-label-container {text-align: center;}#sk-container-id-1 div.sk-container {/* jupyter's `normalize.less` sets `[hidden] { display: none; }` but bootstrap.min.css set `[hidden] { display: none !important; }` so we also need the `!important` here to be able to override the default hidden behavior on the sphinx rendered scikit-learn.org. See: https://github.com/scikit-learn/scikit-learn/issues/21755 */display: inline-block !important;position: relative;}#sk-container-id-1 div.sk-text-repr-fallback {display: none;}</style><div id=\"sk-container-id-1\" class=\"sk-top-container\"><div class=\"sk-text-repr-fallback\"><pre>Pipeline(steps=[(&#x27;standardscaler&#x27;, StandardScaler()),\n",
       "                (&#x27;svc&#x27;, SVC(C=1, decision_function_shape=&#x27;ovo&#x27;))])</pre><b>In a Jupyter environment, please rerun this cell to show the HTML representation or trust the notebook. <br />On GitHub, the HTML representation is unable to render, please try loading this page with nbviewer.org.</b></div><div class=\"sk-container\" hidden><div class=\"sk-item sk-dashed-wrapped\"><div class=\"sk-label-container\"><div class=\"sk-label sk-toggleable\"><input class=\"sk-toggleable__control sk-hidden--visually\" id=\"sk-estimator-id-1\" type=\"checkbox\" ><label for=\"sk-estimator-id-1\" class=\"sk-toggleable__label sk-toggleable__label-arrow\">Pipeline</label><div class=\"sk-toggleable__content\"><pre>Pipeline(steps=[(&#x27;standardscaler&#x27;, StandardScaler()),\n",
       "                (&#x27;svc&#x27;, SVC(C=1, decision_function_shape=&#x27;ovo&#x27;))])</pre></div></div></div><div class=\"sk-serial\"><div class=\"sk-item\"><div class=\"sk-estimator sk-toggleable\"><input class=\"sk-toggleable__control sk-hidden--visually\" id=\"sk-estimator-id-2\" type=\"checkbox\" ><label for=\"sk-estimator-id-2\" class=\"sk-toggleable__label sk-toggleable__label-arrow\">StandardScaler</label><div class=\"sk-toggleable__content\"><pre>StandardScaler()</pre></div></div></div><div class=\"sk-item\"><div class=\"sk-estimator sk-toggleable\"><input class=\"sk-toggleable__control sk-hidden--visually\" id=\"sk-estimator-id-3\" type=\"checkbox\" ><label for=\"sk-estimator-id-3\" class=\"sk-toggleable__label sk-toggleable__label-arrow\">SVC</label><div class=\"sk-toggleable__content\"><pre>SVC(C=1, decision_function_shape=&#x27;ovo&#x27;)</pre></div></div></div></div></div></div></div>"
      ],
      "text/plain": [
       "Pipeline(steps=[('standardscaler', StandardScaler()),\n",
       "                ('svc', SVC(C=1, decision_function_shape='ovo'))])"
      ]
     },
     "execution_count": 36,
     "metadata": {},
     "output_type": "execute_result"
    }
   ],
   "source": [
    "\n",
    "\n",
    "qsvc_expectation = StateFn(hamiltonian, is_measurement=True) @ StateFn(ansatz)\n",
    "C = 1\n",
    "from sklearn.pipeline import make_pipeline\n",
    "from sklearn.preprocessing import StandardScaler\n",
    "clf = make_pipeline(StandardScaler(), SVC( C = C, decision_function_shape='ovo'))\n",
    "clf.fit(X, y)"
   ]
  },
  {
   "cell_type": "code",
   "execution_count": 39,
   "id": "792e3cd2-107b-4b5d-83f6-dd68dec0722a",
   "metadata": {},
   "outputs": [
    {
     "data": {
      "text/plain": [
       "0.9333333333333333"
      ]
     },
     "execution_count": 39,
     "metadata": {},
     "output_type": "execute_result"
    }
   ],
   "source": [
    "model = clf.fit(X, y)\n",
    "clf.score(x_test, y_test)"
   ]
  },
  {
   "cell_type": "code",
   "execution_count": 42,
   "id": "956e941e-05a7-4f3e-9471-b5dada662abc",
   "metadata": {},
   "outputs": [
    {
     "data": {
      "image/png": "[encoded data removed]",
      "text/plain": [
       "<Figure size 864x432 with 1 Axes>"
      ]
     },
     "metadata": {
      "needs_background": "light"
     },
     "output_type": "display_data"
    }
   ],
   "source": [
    "def plot_losses():\n",
    "\n",
    "    plt.figure(figsize=(12, 6))\n",
    "    plt.plot(gd_loss, 'tab:blue', marker='o', label='Gradient Descent')\n",
    "    #plt.plot(qng_qnn_loss, 'tab:green', marker='o', label='natural gradients')\n",
    "    plt.xlabel('iterations')\n",
    "    plt.ylabel('loss')\n",
    "    plt.legend(loc='best')\n",
    "\n",
    "plot_losses()"
   ]
  },
  {
   "cell_type": "code",
   "execution_count": null,
   "id": "2f5ac2d1-e389-4d3d-9ac5-be9af65a299a",
   "metadata": {},
   "outputs": [],
   "source": []
  }
 ],
 "metadata": {
  "kernelspec": {
   "display_name": "Python 3 (ipykernel)",
   "language": "python",
   "name": "python3"
  },
  "language_info": {
   "codemirror_mode": {
    "name": "ipython",
    "version": 3
   },
   "file_extension": ".py",
   "mimetype": "text/x-python",
   "name": "python",
   "nbconvert_exporter": "python",
   "pygments_lexer": "ipython3",
   "version": "3.8.13"
  },
  "widgets": {
   "application/vnd.jupyter.widget-state+json": {
    "state": {
     "00372052e7a847e99aaffed05196998c": {
      "model_module": "@jupyter-widgets/controls",
      "model_module_version": "1.5.0",
      "model_name": "DescriptionStyleModel",
      "state": {
       "description_width": ""
      }
     },
     "0521fa56f2bc4ff7b77f59da37e5f6a4": {
      "model_module": "@jupyter-widgets/controls",
      "model_module_version": "1.5.0",
      "model_name": "DescriptionStyleModel",
      "state": {
       "description_width": ""
      }
     },
     "067910b382aa48f49dab988c37265c2c": {
      "model_module": "@jupyter-widgets/controls",
      "model_module_version": "1.5.0",
      "model_name": "DescriptionStyleModel",
      "state": {
       "description_width": ""
      }
     },
     "11bb88891b664b78bd4abbecd6e3f459": {
      "model_module": "@jupyter-widgets/controls",
      "model_module_version": "1.5.0",
      "model_name": "HBoxModel",
      "state": {
       "children": [
        "IPY_MODEL_d651e6e695fe4098b1d488d42d3f3e71",
        "IPY_MODEL_1f78a3b20d0d46e2a126dbe998e3b617",
        "IPY_MODEL_c0d5c9b4d85b406083280852f2de14c6",
        "IPY_MODEL_1fd66f7c31674ddeb19b4e2703df6e48",
        "IPY_MODEL_b8a56b00232a40ceafa546c3c36d0d14"
       ],
       "layout": "IPY_MODEL_556539f922e24599b4c20c624e6ffb31"
      }
     },
     "1f78a3b20d0d46e2a126dbe998e3b617": {
      "model_module": "@jupyter-widgets/controls",
      "model_module_version": "1.5.0",
      "model_name": "HTMLModel",
      "state": {
       "layout": "IPY_MODEL_93cb73f0155e4360b5b3619be39ee756",
       "style": "IPY_MODEL_9d455607b25b45f9b221a3e2b64fdd8c",
       "value": "<h5>Backend</h5>"
      }
     },
     "1fd66f7c31674ddeb19b4e2703df6e48": {
      "model_module": "@jupyter-widgets/controls",
      "model_module_version": "1.5.0",
      "model_name": "HTMLModel",
      "state": {
       "layout": "IPY_MODEL_726c1ea90e8f44e6bbfa3d1f951fac1c",
       "style": "IPY_MODEL_067910b382aa48f49dab988c37265c2c",
       "value": "<h5>Queue</h5>"
      }
     },
     "24a3b04b8bdd4c18a487afc1f836e8ab": {
      "model_module": "@jupyter-widgets/controls",
      "model_module_version": "1.5.0",
      "model_name": "DescriptionStyleModel",
      "state": {
       "description_width": ""
      }
     },
     "2680c0a3306c4fad8c208623d6bf4f03": {
      "model_module": "@jupyter-widgets/base",
      "model_module_version": "1.2.0",
      "model_name": "LayoutModel",
      "state": {
       "grid_area": "right",
       "padding": "0px 0px 0px 0px",
       "width": "70px"
      }
     },
     "3a4d89c354bb46e3a846670bf9275311": {
      "model_module": "@jupyter-widgets/base",
      "model_module_version": "1.2.0",
      "model_name": "LayoutModel",
      "state": {}
     },
     "4fd686cc439646f9bc84912e969568fe": {
      "model_module": "@jupyter-widgets/base",
      "model_module_version": "1.2.0",
      "model_name": "LayoutModel",
      "state": {
       "width": "95px"
      }
     },
     "556539f922e24599b4c20c624e6ffb31": {
      "model_module": "@jupyter-widgets/base",
      "model_module_version": "1.2.0",
      "model_name": "LayoutModel",
      "state": {
       "margin": "0px 0px 0px 37px",
       "width": "600px"
      }
     },
     "56a70c6daf91478a8ddcd2478ffcb401": {
      "model_module": "@jupyter-widgets/controls",
      "model_module_version": "1.5.0",
      "model_name": "HTMLModel",
      "state": {
       "layout": "IPY_MODEL_d3f3f4b4f4e34e6c8b248e35017071a8",
       "style": "IPY_MODEL_00372052e7a847e99aaffed05196998c",
       "value": "<p style='font-family: IBM Plex Sans, Arial, Helvetica, sans-serif; font-size: 20px; font-weight: medium;'>Circuit Properties</p>"
      }
     },
     "6e47976efe6140adacdac4e5767cccf4": {
      "model_module": "@jupyter-widgets/controls",
      "model_module_version": "1.5.0",
      "model_name": "DescriptionStyleModel",
      "state": {
       "description_width": ""
      }
     },
     "726c1ea90e8f44e6bbfa3d1f951fac1c": {
      "model_module": "@jupyter-widgets/base",
      "model_module_version": "1.2.0",
      "model_name": "LayoutModel",
      "state": {
       "width": "70px"
      }
     },
     "93cb73f0155e4360b5b3619be39ee756": {
      "model_module": "@jupyter-widgets/base",
      "model_module_version": "1.2.0",
      "model_name": "LayoutModel",
      "state": {
       "width": "145px"
      }
     },
     "95380d17312e425588e4b3545eea2328": {
      "model_module": "@jupyter-widgets/base",
      "model_module_version": "1.2.0",
      "model_name": "LayoutModel",
      "state": {
       "width": "190px"
      }
     },
     "975dd8d7ce0944cf9cb0bcf38766d38e": {
      "model_module": "@jupyter-widgets/controls",
      "model_module_version": "1.5.0",
      "model_name": "GridBoxModel",
      "state": {
       "children": [
        "IPY_MODEL_9dd727aaf93b4ef58410e285d283cd03"
       ],
       "layout": "IPY_MODEL_ec2571bfa3504eff855f696a2f6933d5"
      }
     },
     "9d455607b25b45f9b221a3e2b64fdd8c": {
      "model_module": "@jupyter-widgets/controls",
      "model_module_version": "1.5.0",
      "model_name": "DescriptionStyleModel",
      "state": {
       "description_width": ""
      }
     },
     "9dd727aaf93b4ef58410e285d283cd03": {
      "model_module": "@jupyter-widgets/controls",
      "model_module_version": "1.5.0",
      "model_name": "ButtonModel",
      "state": {
       "button_style": "primary",
       "description": "Clear",
       "layout": "IPY_MODEL_2680c0a3306c4fad8c208623d6bf4f03",
       "style": "IPY_MODEL_e85feeabe29a41c894613f1dedcc2cf6"
      }
     },
     "b8a56b00232a40ceafa546c3c36d0d14": {
      "model_module": "@jupyter-widgets/controls",
      "model_module_version": "1.5.0",
      "model_name": "HTMLModel",
      "state": {
       "layout": "IPY_MODEL_3a4d89c354bb46e3a846670bf9275311",
       "style": "IPY_MODEL_24a3b04b8bdd4c18a487afc1f836e8ab",
       "value": "<h5>Message</h5>"
      }
     },
     "c0d5c9b4d85b406083280852f2de14c6": {
      "model_module": "@jupyter-widgets/controls",
      "model_module_version": "1.5.0",
      "model_name": "HTMLModel",
      "state": {
       "layout": "IPY_MODEL_4fd686cc439646f9bc84912e969568fe",
       "style": "IPY_MODEL_6e47976efe6140adacdac4e5767cccf4",
       "value": "<h5>Status</h5>"
      }
     },
     "d3f3f4b4f4e34e6c8b248e35017071a8": {
      "model_module": "@jupyter-widgets/base",
      "model_module_version": "1.2.0",
      "model_name": "LayoutModel",
      "state": {
       "margin": "0px 0px 10px 0px"
      }
     },
     "d651e6e695fe4098b1d488d42d3f3e71": {
      "model_module": "@jupyter-widgets/controls",
      "model_module_version": "1.5.0",
      "model_name": "HTMLModel",
      "state": {
       "layout": "IPY_MODEL_95380d17312e425588e4b3545eea2328",
       "style": "IPY_MODEL_0521fa56f2bc4ff7b77f59da37e5f6a4",
       "value": "<h5>Job ID</h5>"
      }
     },
     "e85feeabe29a41c894613f1dedcc2cf6": {
      "model_module": "@jupyter-widgets/controls",
      "model_module_version": "1.5.0",
      "model_name": "ButtonStyleModel",
      "state": {}
     },
     "ec2571bfa3504eff855f696a2f6933d5": {
      "model_module": "@jupyter-widgets/base",
      "model_module_version": "1.2.0",
      "model_name": "LayoutModel",
      "state": {
       "grid_template_areas": "\n                                       \". . . . right \"\n                                        ",
       "grid_template_columns": "20% 20% 20% 20% 20%",
       "width": "100%"
      }
     }
    },
    "version_major": 2,
    "version_minor": 0
   }
  }
 },
 "nbformat": 4,
 "nbformat_minor": 5
}
